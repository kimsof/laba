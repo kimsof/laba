{
 "cells": [
  {
   "cell_type": "code",
   "execution_count": 2,
   "id": "44c0218f",
   "metadata": {},
   "outputs": [
    {
     "name": "stdout",
     "output_type": "stream",
     "text": [
      "[[ 1.0e+00  1.0e+00  1.0e+00  1.0e+00  1.0e+00  1.0e+00  1.0e+00  1.0e+00\n",
      "   1.0e+00]\n",
      " [ 0.0e+00  1.0e-01  0.0e+00 -1.0e-01  0.0e+00  2.0e-01  0.0e+00 -2.0e-01\n",
      "   0.0e+00]\n",
      " [ 0.0e+00  0.0e+00  1.0e-01  0.0e+00 -1.0e-01  0.0e+00  2.0e-01  0.0e+00\n",
      "  -2.0e-01]\n",
      " [ 0.0e+00  1.0e-02  0.0e+00  1.0e-02  0.0e+00  4.0e-02  0.0e+00  4.0e-02\n",
      "   0.0e+00]\n",
      " [ 0.0e+00  0.0e+00  1.0e-02  0.0e+00  1.0e-02  0.0e+00  4.0e-02  0.0e+00\n",
      "   4.0e-02]\n",
      " [ 0.0e+00  1.0e-04  0.0e+00  1.0e-04  0.0e+00  1.6e-03  0.0e+00  1.6e-03\n",
      "   0.0e+00]\n",
      " [ 0.0e+00  1.0e-03  0.0e+00 -1.0e-03  0.0e+00  8.0e-03  0.0e+00 -8.0e-03\n",
      "   0.0e+00]\n",
      " [ 0.0e+00  0.0e+00  1.0e-03  0.0e+00 -1.0e-03  0.0e+00  8.0e-03  0.0e+00\n",
      "  -8.0e-03]\n",
      " [ 0.0e+00  0.0e+00  1.0e-04  0.0e+00  1.0e-04  0.0e+00  1.6e-03  0.0e+00\n",
      "   1.6e-03]]\n"
     ]
    }
   ],
   "source": [
    "import numpy as np\n",
    "N = 9\n",
    "q = 0.1\n",
    "coordinates = np.zeros((N, 2))\n",
    "coordinates[0] = [0.5, 0.5]\n",
    "coordinates[1] = [0.5 + q, 0.5]\n",
    "coordinates[2] = [0.5, 0.5 + q]\n",
    "coordinates[3] = [0.5 - q, 0.5]\n",
    "coordinates[4] = [0.5, 0.5 - q]\n",
    "coordinates[5] = [0.5 + 2*q, 0.5]\n",
    "coordinates[6] = [0.5, 0.5 + 2*q]\n",
    "coordinates[7] = [0.5 - 2*q, 0.5]\n",
    "coordinates[8] = [0.5, 0.5 - 2*q]\n",
    "\n",
    "dxdy = coordinates[1:, :] - np.ones((N-1, 2))*0.5\n",
    "dx = dxdy[:, 0]\n",
    "dy = dxdy[:, 1]\n",
    "A = np.zeros((N, N))\n",
    "A[0, :] = np.ones(N)\n",
    "A[1, 1:] = dx\n",
    "A[2, 1:] = dy\n",
    "A[3, 1:] = dx ** 2\n",
    "A[4, 1:] = dy ** 2\n",
    "A[5, 1:] = dx ** 4\n",
    "A[6, 1:] = dx ** 3 \n",
    "A[7, 1:] = dy ** 3\n",
    "A[8, 1:] = dy ** 4\n",
    "b = np.array([0, 0, 0, 2, 2, 0, 0, 0, 0])\n",
    "print(A)"
   ]
  },
  {
   "cell_type": "code",
   "execution_count": 139,
   "id": "dee96ebb",
   "metadata": {
    "scrolled": false
   },
   "outputs": [
    {
     "data": {
      "text/plain": [
       "8.294399999999952e-16"
      ]
     },
     "execution_count": 139,
     "metadata": {},
     "output_type": "execute_result"
    }
   ],
   "source": [
    "np.linalg.det(A)"
   ]
  },
  {
   "cell_type": "code",
   "execution_count": 140,
   "id": "3a555fb7",
   "metadata": {},
   "outputs": [
    {
     "data": {
      "text/plain": [
       "array([-500.        ,  133.33333333,  133.33333333,  133.33333333,\n",
       "        133.33333333,   -8.33333333,   -8.33333333,   -8.33333333,\n",
       "         -8.33333333])"
      ]
     },
     "execution_count": 140,
     "metadata": {},
     "output_type": "execute_result"
    }
   ],
   "source": [
    "np.linalg.solve(A, b)"
   ]
  },
  {
   "cell_type": "code",
   "execution_count": 159,
   "id": "efa5c52f",
   "metadata": {},
   "outputs": [],
   "source": [
    "q = 0.1\n",
    "\n",
    "x = list(np.zeros(8))\n",
    "\n",
    "for i in range(8):\n",
    "    x[i] = q*(i+1)\n",
    "x = x*6\n",
    "y = []\n",
    "\n",
    "for i in range(6):\n",
    "    y += [q*(i+1)]*8        \n",
    "        \n",
    "\n"
   ]
  },
  {
   "cell_type": "code",
   "execution_count": 162,
   "id": "148cd0d8",
   "metadata": {},
   "outputs": [
    {
     "ename": "NameError",
     "evalue": "name 'r' is not defined",
     "output_type": "error",
     "traceback": [
      "\u001b[0;31m---------------------------------------------------------------------------\u001b[0m",
      "\u001b[0;31mNameError\u001b[0m                                 Traceback (most recent call last)",
      "\u001b[0;32m<ipython-input-162-89b65696d1f8>\u001b[0m in \u001b[0;36m<module>\u001b[0;34m\u001b[0m\n\u001b[1;32m      2\u001b[0m     \u001b[0;32mreturn\u001b[0m \u001b[0;34m[\u001b[0m\u001b[0mx\u001b[0m\u001b[0;34m,\u001b[0m \u001b[0;36m0\u001b[0m\u001b[0;34m,\u001b[0m \u001b[0mr\u001b[0m\u001b[0;34m(\u001b[0m\u001b[0mx\u001b[0m\u001b[0;34m,\u001b[0m \u001b[0mz\u001b[0m\u001b[0;34m)\u001b[0m\u001b[0;34m]\u001b[0m\u001b[0;34m\u001b[0m\u001b[0;34m\u001b[0m\u001b[0m\n\u001b[1;32m      3\u001b[0m \u001b[0;34m\u001b[0m\u001b[0m\n\u001b[0;32m----> 4\u001b[0;31m \u001b[0mneighbour\u001b[0m\u001b[0;34m[\u001b[0m\u001b[0;36m0\u001b[0m\u001b[0;34m]\u001b[0m \u001b[0;34m=\u001b[0m \u001b[0;34m[\u001b[0m\u001b[0my\u001b[0m\u001b[0;34m(\u001b[0m\u001b[0;36m1\u001b[0m\u001b[0;34m,\u001b[0m \u001b[0;36m0\u001b[0m\u001b[0;34m)\u001b[0m\u001b[0;34m,\u001b[0m \u001b[0my\u001b[0m\u001b[0;34m(\u001b[0m\u001b[0;36m8\u001b[0m\u001b[0;34m,\u001b[0m \u001b[0;36m0\u001b[0m\u001b[0;34m)\u001b[0m\u001b[0;34m]\u001b[0m\u001b[0;34m\u001b[0m\u001b[0;34m\u001b[0m\u001b[0m\n\u001b[0m\u001b[1;32m      5\u001b[0m \u001b[0;32mfor\u001b[0m \u001b[0mi\u001b[0m \u001b[0;32min\u001b[0m \u001b[0mrange\u001b[0m\u001b[0;34m(\u001b[0m\u001b[0;36m1\u001b[0m\u001b[0;34m,\u001b[0m \u001b[0;36m7\u001b[0m\u001b[0;34m)\u001b[0m\u001b[0;34m:\u001b[0m\u001b[0;34m\u001b[0m\u001b[0;34m\u001b[0m\u001b[0m\n\u001b[1;32m      6\u001b[0m     \u001b[0mneighbour\u001b[0m\u001b[0;34m[\u001b[0m\u001b[0mi\u001b[0m\u001b[0;34m]\u001b[0m \u001b[0;34m=\u001b[0m \u001b[0;34m[\u001b[0m\u001b[0my\u001b[0m\u001b[0;34m(\u001b[0m\u001b[0mi\u001b[0m \u001b[0;34m-\u001b[0m \u001b[0;36m1\u001b[0m\u001b[0;34m,\u001b[0m \u001b[0mi\u001b[0m\u001b[0;34m)\u001b[0m\u001b[0;34m,\u001b[0m \u001b[0my\u001b[0m\u001b[0;34m(\u001b[0m\u001b[0mi\u001b[0m \u001b[0;34m+\u001b[0m \u001b[0;36m1\u001b[0m\u001b[0;34m,\u001b[0m \u001b[0mi\u001b[0m\u001b[0;34m)\u001b[0m\u001b[0;34m,\u001b[0m \u001b[0my\u001b[0m\u001b[0;34m(\u001b[0m\u001b[0mi\u001b[0m \u001b[0;34m+\u001b[0m \u001b[0;36m8\u001b[0m\u001b[0;34m,\u001b[0m \u001b[0mi\u001b[0m\u001b[0;34m)\u001b[0m\u001b[0;34m]\u001b[0m\u001b[0;34m\u001b[0m\u001b[0;34m\u001b[0m\u001b[0m\n",
      "\u001b[0;32m<ipython-input-162-89b65696d1f8>\u001b[0m in \u001b[0;36my\u001b[0;34m(x, z)\u001b[0m\n\u001b[1;32m      1\u001b[0m \u001b[0;32mdef\u001b[0m \u001b[0my\u001b[0m\u001b[0;34m(\u001b[0m\u001b[0mx\u001b[0m\u001b[0;34m,\u001b[0m \u001b[0mz\u001b[0m\u001b[0;34m)\u001b[0m\u001b[0;34m:\u001b[0m\u001b[0;34m\u001b[0m\u001b[0;34m\u001b[0m\u001b[0m\n\u001b[0;32m----> 2\u001b[0;31m     \u001b[0;32mreturn\u001b[0m \u001b[0;34m[\u001b[0m\u001b[0mx\u001b[0m\u001b[0;34m,\u001b[0m \u001b[0;36m0\u001b[0m\u001b[0;34m,\u001b[0m \u001b[0mr\u001b[0m\u001b[0;34m(\u001b[0m\u001b[0mx\u001b[0m\u001b[0;34m,\u001b[0m \u001b[0mz\u001b[0m\u001b[0;34m)\u001b[0m\u001b[0;34m]\u001b[0m\u001b[0;34m\u001b[0m\u001b[0;34m\u001b[0m\u001b[0m\n\u001b[0m\u001b[1;32m      3\u001b[0m \u001b[0;34m\u001b[0m\u001b[0m\n\u001b[1;32m      4\u001b[0m \u001b[0mneighbour\u001b[0m\u001b[0;34m[\u001b[0m\u001b[0;36m0\u001b[0m\u001b[0;34m]\u001b[0m \u001b[0;34m=\u001b[0m \u001b[0;34m[\u001b[0m\u001b[0my\u001b[0m\u001b[0;34m(\u001b[0m\u001b[0;36m1\u001b[0m\u001b[0;34m,\u001b[0m \u001b[0;36m0\u001b[0m\u001b[0;34m)\u001b[0m\u001b[0;34m,\u001b[0m \u001b[0my\u001b[0m\u001b[0;34m(\u001b[0m\u001b[0;36m8\u001b[0m\u001b[0;34m,\u001b[0m \u001b[0;36m0\u001b[0m\u001b[0;34m)\u001b[0m\u001b[0;34m]\u001b[0m\u001b[0;34m\u001b[0m\u001b[0;34m\u001b[0m\u001b[0m\n\u001b[1;32m      5\u001b[0m \u001b[0;32mfor\u001b[0m \u001b[0mi\u001b[0m \u001b[0;32min\u001b[0m \u001b[0mrange\u001b[0m\u001b[0;34m(\u001b[0m\u001b[0;36m1\u001b[0m\u001b[0;34m,\u001b[0m \u001b[0;36m7\u001b[0m\u001b[0;34m)\u001b[0m\u001b[0;34m:\u001b[0m\u001b[0;34m\u001b[0m\u001b[0;34m\u001b[0m\u001b[0m\n",
      "\u001b[0;31mNameError\u001b[0m: name 'r' is not defined"
     ]
    }
   ],
   "source": [
    "\n",
    "def y(x, z):\n",
    "    return [x, 0, r(x, z)]\n",
    "\n",
    "neighbour[0] = [y(1, 0), y(8, 0)]\n",
    "for i in range(1, 7):\n",
    "    neighbour[i] = [y(i - 1, i), y(i + 1, i), y(i + 8, i)]\n",
    "neighbour[7] = [y(6, 7), y(15, 7)]\n",
    "for j in range(8, 40):\n",
    "    if i % 8 == 0 :\n",
    "        neighbour[i] = [y(i-8, i), y(i+1, i), y(i+8, i)]\n",
    "    elif (i + 1) % 8 == 0:\n",
    "        neighbour[i] = [y(i-8, i), y(i-1, i), y(i+8, i)]\n",
    "    else:\n",
    "        neighbour[i] = [y(i-8, i), y(i-1, i), y(i+1, i),y(i+8, i)]\n",
    "neighbour[40] = [y(32, 40), y(41, 40)]\n",
    "for i in range(41, 47):\n",
    "    neighbour[i] = [y(i - 1, i), y(i + 1, i), y(i - 8, i)]\n",
    "neighbour[47] = [y(39, 47), y(46, 47)]"
   ]
  },
  {
   "cell_type": "code",
   "execution_count": 667,
   "id": "adf795b6",
   "metadata": {},
   "outputs": [
    {
     "data": {
      "text/plain": [
       "array([4, 5, 5])"
      ]
     },
     "execution_count": 667,
     "metadata": {},
     "output_type": "execute_result"
    }
   ],
   "source": [
    "np.random.randint(4, 6, 3)"
   ]
  },
  {
   "cell_type": "code",
   "execution_count": 668,
   "id": "1d18641d",
   "metadata": {},
   "outputs": [
    {
     "data": {
      "text/plain": [
       "0.7217464446249999"
      ]
     },
     "execution_count": 668,
     "metadata": {},
     "output_type": "execute_result"
    }
   ],
   "source": [
    "np.mean([0.700114071, 0.758128762, 0.685876787, 0.742842734, 0.700126648, 0.758139312, 0.685889721, 0.742853522])"
   ]
  },
  {
   "cell_type": "code",
   "execution_count": 184,
   "id": "7b71ad27",
   "metadata": {},
   "outputs": [
    {
     "data": {
      "text/plain": [
       "array([9, 8, 7, 6, 5])"
      ]
     },
     "execution_count": 184,
     "metadata": {},
     "output_type": "execute_result"
    }
   ],
   "source": [
    "a = np.array([10,9,8,7,6,5,4,3,2,1])\n",
    "b = np.array([1,2,3,4,5])\n",
    "a[b]"
   ]
  },
  {
   "cell_type": "code",
   "execution_count": 188,
   "id": "63ada3fb",
   "metadata": {},
   "outputs": [
    {
     "data": {
      "text/plain": [
       "array([-3, -2, -1,  0,  1])"
      ]
     },
     "execution_count": 188,
     "metadata": {},
     "output_type": "execute_result"
    }
   ],
   "source": [
    "b - 4"
   ]
  },
  {
   "cell_type": "code",
   "execution_count": 186,
   "id": "90b73c59",
   "metadata": {},
   "outputs": [
    {
     "data": {
      "text/plain": [
       "3.7416573867739413"
      ]
     },
     "execution_count": 186,
     "metadata": {},
     "output_type": "execute_result"
    }
   ],
   "source": [
    "a=[1,2,3]\n",
    "np.linalg.norm(a)"
   ]
  },
  {
   "cell_type": "code",
   "execution_count": 187,
   "id": "400950b5",
   "metadata": {},
   "outputs": [
    {
     "data": {
      "text/plain": [
       "3.7416573867739413"
      ]
     },
     "execution_count": 187,
     "metadata": {},
     "output_type": "execute_result"
    }
   ],
   "source": [
    "np.sqrt(1+4+9)"
   ]
  },
  {
   "cell_type": "code",
   "execution_count": 85,
   "id": "c17d7a1f",
   "metadata": {},
   "outputs": [
    {
     "data": {
      "text/plain": [
       "1"
      ]
     },
     "execution_count": 85,
     "metadata": {},
     "output_type": "execute_result"
    }
   ],
   "source": [
    "u = [[2, 3], [4,5]]\n",
    "u.index([4, 5])"
   ]
  },
  {
   "cell_type": "code",
   "execution_count": 206,
   "id": "c8089203",
   "metadata": {},
   "outputs": [
    {
     "data": {
      "text/plain": [
       "6"
      ]
     },
     "execution_count": 206,
     "metadata": {},
     "output_type": "execute_result"
    }
   ],
   "source": [
    "N = 48  # число спутников\n",
    "parts = 5\n",
    "if N % parts:\n",
    "    parts += 1\n",
    "    \n",
    "parts"
   ]
  },
  {
   "cell_type": "code",
   "execution_count": 207,
   "id": "3f8fe5a5",
   "metadata": {},
   "outputs": [
    {
     "ename": "TypeError",
     "evalue": "unsupported operand type(s) for +: 'range' and 'int'",
     "output_type": "error",
     "traceback": [
      "\u001b[0;31m---------------------------------------------------------------------------\u001b[0m",
      "\u001b[0;31mTypeError\u001b[0m                                 Traceback (most recent call last)",
      "\u001b[0;32m<ipython-input-207-775bf01438aa>\u001b[0m in \u001b[0;36m<module>\u001b[0;34m\u001b[0m\n\u001b[0;32m----> 1\u001b[0;31m \u001b[0mrange\u001b[0m\u001b[0;34m(\u001b[0m\u001b[0;36m3\u001b[0m\u001b[0;34m)\u001b[0m \u001b[0;34m+\u001b[0m \u001b[0;36m1\u001b[0m\u001b[0;34m\u001b[0m\u001b[0;34m\u001b[0m\u001b[0m\n\u001b[0m",
      "\u001b[0;31mTypeError\u001b[0m: unsupported operand type(s) for +: 'range' and 'int'"
     ]
    }
   ],
   "source": [
    "range(3) + 1"
   ]
  },
  {
   "cell_type": "code",
   "execution_count": 3,
   "id": "23b61442",
   "metadata": {},
   "outputs": [
    {
     "data": {
      "text/plain": [
       "[<matplotlib.lines.Line2D at 0x7f85685ee280>]"
      ]
     },
     "execution_count": 3,
     "metadata": {},
     "output_type": "execute_result"
    },
    {
     "data": {
      "image/png": "[encoded data removed]",
      "text/plain": [
       "<Figure size 432x288 with 1 Axes>"
      ]
     },
     "metadata": {
      "needs_background": "light"
     },
     "output_type": "display_data"
    }
   ],
   "source": [
    "import matplotlib.pyplot as plt\n",
    "import numpy as np\n",
    "np.random.seed(2)\n",
    "N = 48  # число спутников\n",
    "n = 2\n",
    "data = np.zeros((N, 2), dtype=object)  # массив со всей информацией\n",
    "n = 5\n",
    "k = 3\n",
    "l = 1/k\n",
    "data[0 * n:1 * n, 0] = np.random.random_sample(n) * l + l * 0\n",
    "data[1 * n:2 * n, 0] = np.random.random_sample(n) * l + l * 1\n",
    "data[2 * n:3 * n, 0] = np.random.random_sample(n) * l + l * 2\n",
    "data[3 * n:4 * n, 0] = np.random.random_sample(n) * l + l * 0\n",
    "data[4 * n:5 * n, 0] = np.random.random_sample(n) * l + l * 1\n",
    "data[5 * n:6 * n, 0] = np.random.random_sample(n) * l + l * 2\n",
    "data[6 * n:7 * n, 0] = np.random.random_sample(n) * l + l * 0\n",
    "data[7 * n:8 * n, 0] = np.random.random_sample(n) * l + l * 1\n",
    "data[8 * n:9 * n, 0] = np.random.random_sample(n) * l + l * 2\n",
    "# data[9 * n:48, 0] = np.random.random_sample(3)\n",
    "\n",
    "data[0 * n:1 * n, 1] = np.random.random_sample(n) * l + l * 0\n",
    "data[1 * n:2 * n, 1] = np.random.random_sample(n) * l + l * 0\n",
    "data[2 * n:3 * n, 1] = np.random.random_sample(n) * l + l * 0\n",
    "data[3 * n:4 * n, 1] = np.random.random_sample(n) * l + l * 1\n",
    "data[4 * n:5 * n, 1] = np.random.random_sample(n) * l + l * 1\n",
    "data[5 * n:6 * n, 1] = np.random.random_sample(n) * l + l * 1\n",
    "data[6 * n:7 * n, 1] = np.random.random_sample(n) * l + l * 2\n",
    "data[7 * n:8 * n, 1] = np.random.random_sample(n) * l + l * 2\n",
    "data[8 * n:9 * n, 1] = np.random.random_sample(n) * l + l * 2\n",
    "# data[9 * n:48, 1] = np.random.random_sample(3)\n",
    "plt.plot(data[:, 0], data[:, 1], 'ro')"
   ]
  },
  {
   "cell_type": "code",
   "execution_count": 4,
   "id": "a3c9dc68",
   "metadata": {},
   "outputs": [
    {
     "data": {
      "text/plain": [
       "[<matplotlib.lines.Line2D at 0x7f8538da13d0>]"
      ]
     },
     "execution_count": 4,
     "metadata": {},
     "output_type": "execute_result"
    },
    {
     "data": {
      "image/png": "[encoded data removed]",
      "text/plain": [
       "<Figure size 432x288 with 1 Axes>"
      ]
     },
     "metadata": {
      "needs_background": "light"
     },
     "output_type": "display_data"
    }
   ],
   "source": [
    "import matplotlib.pyplot as plt\n",
    "# np.random.seed(2)\n",
    "\n",
    "nc = 49                    # число ячеек\n",
    "k = int(np.sqrt(nc))       # корень из числа ячеек\n",
    "n = 1                      # число спутников в ячейке\n",
    "N = n*nc                   # число спутников\n",
    "l = 1/k                    # длина стороны ячейки\n",
    "\n",
    "data = np.zeros((N, 2), dtype=object)  # массив со всей информацией\n",
    "for i in range(k):\n",
    "    for j in range(k):\n",
    "        data[((k * i + j) * n):((k * i + j + 1) * n), 0] = np.random.random_sample(n) * l + l * j\n",
    "        data[((k * i + j) * n):((k * i + j + 1) * n), 1] = np.random.random_sample(n) * l + l * i\n",
    "\n",
    "\n",
    "# data[0 * n:1 * n, 0] = np.random.random_sample(n) * l + l * 0\n",
    "# data[1 * n:2 * n, 0] = np.random.random_sample(n) * l + l * 1\n",
    "# data[2 * n:3 * n, 0] = np.random.random_sample(n) * l + l * 2\n",
    "# data[3 * n:4 * n, 0] = np.random.random_sample(n) * l + l * 0\n",
    "# data[4 * n:5 * n, 0] = np.random.random_sample(n) * l + l * 1\n",
    "# data[5 * n:6 * n, 0] = np.random.random_sample(n) * l + l * 2\n",
    "# data[6 * n:7 * n, 0] = np.random.random_sample(n) * l + l * 0\n",
    "# data[7 * n:8 * n, 0] = np.random.random_sample(n) * l + l * 1\n",
    "# data[8 * n:9 * n, 0] = np.random.random_sample(n) * l + l * 2\n",
    "# # data[9 * n:48, 0] = np.random.random_sample(3)\n",
    "\n",
    "# data[0 * n:1 * n, 1] = np.random.random_sample(n) * l + l * 0\n",
    "# data[1 * n:2 * n, 1] = np.random.random_sample(n) * l + l * 0\n",
    "# data[2 * n:3 * n, 1] = np.random.random_sample(n) * l + l * 0\n",
    "# data[3 * n:4 * n, 1] = np.random.random_sample(n) * l + l * 1\n",
    "# data[4 * n:5 * n, 1] = np.random.random_sample(n) * l + l * 1\n",
    "# data[5 * n:6 * n, 1] = np.random.random_sample(n) * l + l * 1\n",
    "# data[6 * n:7 * n, 1] = np.random.random_sample(n) * l + l * 2\n",
    "# data[7 * n:8 * n, 1] = np.random.random_sample(n) * l + l * 2\n",
    "# data[8 * n:9 * n, 1] = np.random.random_sample(n) * l + l * 2\n",
    "# data[9 * n:48, 1] = np.random.random_sample(3)\n",
    "plt.plot(data[:, 0], data[:, 1], 'ro')"
   ]
  },
  {
   "cell_type": "code",
   "execution_count": null,
   "id": "0d27cfc1",
   "metadata": {},
   "outputs": [],
   "source": []
  },
  {
   "cell_type": "code",
   "execution_count": 670,
   "id": "ac8a27cd",
   "metadata": {
    "collapsed": true
   },
   "outputs": [
    {
     "data": {
      "text/plain": [
       "[<matplotlib.lines.Line2D at 0x7f862f79c580>]"
      ]
     },
     "execution_count": 670,
     "metadata": {},
     "output_type": "execute_result"
    },
    {
     "data": {
      "image/png": "[encoded data removed]",
      "text/plain": [
       "<Figure size 432x288 with 1 Axes>"
      ]
     },
     "metadata": {
      "needs_background": "light"
     },
     "output_type": "display_data"
    }
   ],
   "source": [
    "data = np.zeros((N, 2), dtype=object)\n",
    "data[:, :2] = np.random.random_sample((N, 2))\n",
    "y = np.linspace(-1, 1, 100)\n",
    "plt.plot(1 - y**2, y, 'ro')"
   ]
  },
  {
   "cell_type": "code",
   "execution_count": 34,
   "id": "6cf2a047",
   "metadata": {},
   "outputs": [],
   "source": [
    "np.random.seed(6)\n",
    "nc = 49                # число ячеек\n",
    "k = int(np.sqrt(nc))    # корень из числа ячеек\n",
    "n = 1                     # число спутников в ячейке\n",
    "N = n*nc                   # число спутников\n",
    "l = 1/k                    # длина стороны ячейки\n",
    "data = np.zeros((N, 2), dtype=object)  # массив со всей информацией\n",
    "for i in range(k):\n",
    "    for j in range(k):\n",
    "        data[((k * i + j) * n):((k * i + j + 1) * n), 0] = np.random.random_sample(n) * l + l * j\n",
    "        data[((k * i + j) * n):((k * i + j + 1) * n), 1] = np.random.random_sample(n) * l + l * i"
   ]
  },
  {
   "cell_type": "code",
   "execution_count": 35,
   "id": "cc446621",
   "metadata": {
    "scrolled": false
   },
   "outputs": [
    {
     "data": {
      "image/png": "[encoded data removed]",
      "text/plain": [
       "<Figure size 432x288 with 1 Axes>"
      ]
     },
     "metadata": {
      "needs_background": "light"
     },
     "output_type": "display_data"
    },
    {
     "data": {
      "image/png": "[encoded data removed]",
      "text/plain": [
       "<Figure size 432x288 with 1 Axes>"
      ]
     },
     "metadata": {
      "needs_background": "light"
     },
     "output_type": "display_data"
    }
   ],
   "source": [
    "import matplotlib.pyplot as plt\n",
    "rng = np.random.default_rng()\n",
    "points = data\n",
    "from scipy.spatial import Voronoi, voronoi_plot_2d\n",
    "vor = Voronoi(points)\n",
    "fig = voronoi_plot_2d(vor)\n",
    "fig = voronoi_plot_2d(vor, show_vertices=False, line_colors='orange',\n",
    "line_width=2, line_alpha=0.6, point_size=2)\n",
    "plt.show()"
   ]
  },
  {
   "cell_type": "code",
   "execution_count": 91,
   "id": "82c74d0b",
   "metadata": {
    "scrolled": true
   },
   "outputs": [
    {
     "data": {
      "text/plain": [
       "2"
      ]
     },
     "execution_count": 91,
     "metadata": {},
     "output_type": "execute_result"
    }
   ],
   "source": [
    "ridges = vor.ridge_points\n",
    "list_ridges = [list(ridge) for ridge in ridges]\n",
    "list_ridges.index([20, 13])\n",
    "# list_ridge"
   ]
  },
  {
   "cell_type": "code",
   "execution_count": 84,
   "id": "2226a63f",
   "metadata": {
    "scrolled": true
   },
   "outputs": [
    {
     "data": {
      "text/plain": [
       "[[[1, 0], [14, 0], [7, 0], [2, 0], [8, 0]],\n",
       " [[6, 0], [0, 0], [2, 0], [3, 0]],\n",
       " [[1, 0], [3, 0], [0, 0], [9, 0], [10, 0], [8, 0]],\n",
       " [[1, 0], [4, 0], [6, 0], [2, 0], [10, 0]],\n",
       " [[11, 0], [5, 0], [6, 0], [3, 0], [10, 0]],\n",
       " [[12, 0], [4, 0], [11, 0], [6, 0]],\n",
       " [[20, 0], [1, 0], [12, 0], [13, 0], [4, 0], [5, 0], [3, 0]],\n",
       " [[14, 0], [15, 0], [8, 0], [0, 0]],\n",
       " [[15, 0], [7, 0], [0, 0], [9, 0], [16, 0], [2, 0]],\n",
       " [[23, 0], [17, 0], [10, 0], [16, 0], [8, 0], [2, 0]],\n",
       " [[4, 0], [11, 0], [3, 0], [9, 0], [17, 0], [2, 0]],\n",
       " [[18, 0], [12, 0], [19, 0], [4, 0], [17, 0], [5, 0], [10, 0]],\n",
       " [[11, 0], [5, 0], [6, 0], [13, 0], [19, 0]],\n",
       " [[20, 0], [12, 0], [6, 0], [19, 0]],\n",
       " [[22, 0], [21, 0], [28, 0], [15, 0], [7, 0], [0, 0]],\n",
       " [[14, 0], [22, 0], [8, 0], [16, 0], [7, 0], [23, 0]],\n",
       " [[15, 0], [9, 0], [23, 0], [8, 0]],\n",
       " [[18, 0], [11, 0], [25, 0], [24, 0], [9, 0], [23, 0], [10, 0]],\n",
       " [[25, 0], [19, 0], [17, 0], [11, 0]],\n",
       " [[20, 0], [18, 0], [12, 0], [13, 0], [27, 0], [25, 0], [11, 0], [26, 0]],\n",
       " [[6, 0], [41, 0], [13, 0], [19, 0], [34, 0], [27, 0]],\n",
       " [[36, 0], [29, 0], [14, 0], [22, 0], [28, 0]],\n",
       " [[29, 0], [14, 0], [21, 0], [23, 0], [15, 0]],\n",
       " [[29, 0], [22, 0], [15, 0], [24, 0], [9, 0], [17, 0], [16, 0]],\n",
       " [[29, 0], [31, 0], [25, 0], [17, 0], [23, 0], [30, 0]],\n",
       " [[18, 0], [19, 0], [26, 0], [31, 0], [17, 0], [24, 0], [32, 0]],\n",
       " [[27, 0], [19, 0], [33, 0], [25, 0], [32, 0]],\n",
       " [[20, 0], [34, 0], [19, 0], [33, 0], [26, 0]],\n",
       " [[36, 0], [14, 0], [21, 0], [35, 0]],\n",
       " [[37, 0], [36, 0], [23, 0], [24, 0], [30, 0], [21, 0], [22, 0]],\n",
       " [[38, 0], [37, 0], [29, 0], [31, 0], [24, 0], [39, 0]],\n",
       " [[25, 0], [24, 0], [32, 0], [30, 0], [39, 0]],\n",
       " [[33, 0], [40, 0], [26, 0], [31, 0], [25, 0], [39, 0]],\n",
       " [[34, 0], [41, 0], [27, 0], [40, 0], [26, 0], [32, 0]],\n",
       " [[20, 0], [41, 0], [27, 0], [33, 0]],\n",
       " [[42, 0], [36, 0], [28, 0]],\n",
       " [[42, 0], [44, 0], [43, 0], [37, 0], [29, 0], [35, 0], [28, 0], [21, 0]],\n",
       " [[44, 0], [38, 0], [30, 0], [29, 0], [36, 0]],\n",
       " [[46, 0], [44, 0], [45, 0], [39, 0], [30, 0], [37, 0]],\n",
       " [[46, 0], [47, 0], [38, 0], [40, 0], [31, 0], [32, 0], [30, 0]],\n",
       " [[47, 0], [48, 0], [41, 0], [33, 0], [39, 0], [32, 0]],\n",
       " [[20, 0], [48, 0], [34, 0], [40, 0], [33, 0]],\n",
       " [[35, 0], [43, 0], [36, 0]],\n",
       " [[48, 0], [42, 0], [44, 0], [45, 0], [36, 0]],\n",
       " [[43, 0], [45, 0], [38, 0], [37, 0], [36, 0]],\n",
       " [[46, 0], [48, 0], [44, 0], [43, 0], [38, 0]],\n",
       " [[47, 0], [39, 0], [38, 0], [45, 0], [48, 0]],\n",
       " [[46, 0], [40, 0], [48, 0], [39, 0]],\n",
       " [[46, 0], [47, 0], [41, 0], [40, 0], [43, 0], [45, 0]]]"
      ]
     },
     "execution_count": 84,
     "metadata": {},
     "output_type": "execute_result"
    }
   ],
   "source": [
    "neibs = []\n",
    "for i in range(N):\n",
    "    neibs.append([])\n",
    "for ridge in ridges:\n",
    "    neibs[ridge[0]].append([ridge[1], 0])\n",
    "    neibs[ridge[1]].append([ridge[0], 0])\n",
    "neibs"
   ]
  },
  {
   "cell_type": "code",
   "execution_count": 205,
   "id": "8f263f61",
   "metadata": {},
   "outputs": [],
   "source": [
    "np.random.seed(0)\n",
    "nc = 49                # число ячеек\n",
    "k = int(np.sqrt(nc))    # корень из числа ячеек\n",
    "n = 1                     # число спутников в ячейке\n",
    "N = n*nc                   # число спутников\n",
    "l = 1/k                    # длина стороны ячейки\n",
    "data = np.zeros((N, 2), dtype=object)  # массив со всей информацией\n",
    "for i in range(k):\n",
    "    for j in range(k):\n",
    "        data[((k * i + j) * n):((k * i + j + 1) * n), 0] = np.random.random_sample(n) * l + l * j\n",
    "        data[((k * i + j) * n):((k * i + j + 1) * n), 1] = np.random.random_sample(n) * l + l * i"
   ]
  },
  {
   "cell_type": "code",
   "execution_count": 206,
   "id": "f6c54c25",
   "metadata": {
    "scrolled": false
   },
   "outputs": [
    {
     "data": {
      "image/png": "[encoded data removed]",
      "text/plain": [
       "<Figure size 432x288 with 1 Axes>"
      ]
     },
     "metadata": {
      "needs_background": "light"
     },
     "output_type": "display_data"
    },
    {
     "data": {
      "image/png": "[encoded data removed]",
      "text/plain": [
       "<Figure size 432x288 with 1 Axes>"
      ]
     },
     "metadata": {
      "needs_background": "light"
     },
     "output_type": "display_data"
    },
    {
     "data": {
      "text/plain": [
       "<Figure size 720x504 with 0 Axes>"
      ]
     },
     "metadata": {},
     "output_type": "display_data"
    }
   ],
   "source": [
    "from scipy.spatial import Voronoi\n",
    "vor = Voronoi(data)\n",
    "ridges = vor.ridge_points\n",
    "neibs = []\n",
    "for i in range(N):\n",
    "    neibs.append([])\n",
    "for ridge in ridges:\n",
    "    neibs[ridge[0]].append([ridge[1], 0])\n",
    "    neibs[ridge[1]].append([ridge[0], 0])\n",
    "    \n",
    "aux_data = data\n",
    "for n in range(N):\n",
    "    if data[n, 0] < 0.5:\n",
    "        aux_data[n, 0] += 1\n",
    "\n",
    "aux_vor = Voronoi(aux_data)\n",
    "aux_ridges = aux_vor.ridge_points\n",
    "# print(aux_ridges)\n",
    "aux_neibs = []\n",
    "for i in range(N):\n",
    "    aux_neibs.append([])\n",
    "for ridge in aux_ridges:\n",
    "    aux_neibs[ridge[0]].append([ridge[1], 0])\n",
    "    aux_neibs[ridge[1]].append([ridge[0], 0])\n",
    "\n",
    "from scipy.spatial import voronoi_plot_2d\n",
    "fig = voronoi_plot_2d(vor, show_vertices=False, line_colors='orange',\n",
    "line_width=2, line_alpha=0.6, point_size=2)\n",
    "fig = voronoi_plot_2d(aux_vor, show_vertices=False, line_colors='orange',\n",
    "line_width=2, line_alpha=0.6, point_size=2)\n",
    "plt.figure(figsize=(10, 7))\n",
    "plt.show()"
   ]
  },
  {
   "cell_type": "code",
   "execution_count": 177,
   "id": "28330da5",
   "metadata": {
    "collapsed": true
   },
   "outputs": [
    {
     "name": "stdout",
     "output_type": "stream",
     "text": [
      "[[38 44]\n",
      " [38 45]\n",
      " [38 37]\n",
      " [38 24]\n",
      " [38 30]\n",
      " [45 24]\n",
      " [45 43]\n",
      " [45 44]\n",
      " [24 10]\n",
      " [24 30]\n",
      " [24 29]\n",
      " [24 23]\n",
      " [30 29]\n",
      " [30 37]\n",
      " [ 1  3]\n",
      " [ 1 10]\n",
      " [ 1  6]\n",
      " [ 1  0]\n",
      " [ 1  2]\n",
      " [10 23]\n",
      " [10  9]\n",
      " [10  2]\n",
      " [31 17]\n",
      " [31 46]\n",
      " [31 39]\n",
      " [31 32]\n",
      " [31 25]\n",
      " [47 48]\n",
      " [47 46]\n",
      " [47 40]\n",
      " [47 39]\n",
      " [48 46]\n",
      " [48 43]\n",
      " [48 42]\n",
      " [48 35]\n",
      " [48 40]\n",
      " [46 43]\n",
      " [46 17]\n",
      " [46 39]\n",
      " [39 32]\n",
      " [39 40]\n",
      " [26 19]\n",
      " [26 27]\n",
      " [26 25]\n",
      " [26 32]\n",
      " [26 33]\n",
      " [32 40]\n",
      " [32 25]\n",
      " [32 33]\n",
      " [40 35]\n",
      " [40 41]\n",
      " [40 33]\n",
      " [29 37]\n",
      " [29 23]\n",
      " [29 22]\n",
      " [29 21]\n",
      " [29 36]\n",
      " [35 42]\n",
      " [35 41]\n",
      " [35 36]\n",
      " [42 43]\n",
      " [42 36]\n",
      " [43 44]\n",
      " [43 36]\n",
      " [37 44]\n",
      " [37 36]\n",
      " [44 36]\n",
      " [33 27]\n",
      " [33 41]\n",
      " [33 34]\n",
      " [23 22]\n",
      " [23  9]\n",
      " [23 16]\n",
      " [23 15]\n",
      " [ 8  9]\n",
      " [ 8 16]\n",
      " [ 8  2]\n",
      " [ 8 15]\n",
      " [ 8  7]\n",
      " [ 8  0]\n",
      " [ 9 16]\n",
      " [ 9  2]\n",
      " [16 15]\n",
      " [ 2  0]\n",
      " [ 0  6]\n",
      " [ 0  7]\n",
      " [22 21]\n",
      " [22 15]\n",
      " [22 14]\n",
      " [15  7]\n",
      " [15 14]\n",
      " [ 7  6]\n",
      " [ 7 13]\n",
      " [ 7 14]\n",
      " [12 13]\n",
      " [12  6]\n",
      " [12 19]\n",
      " [12 11]\n",
      " [12  5]\n",
      " [18 25]\n",
      " [18 17]\n",
      " [18 19]\n",
      " [18 11]\n",
      " [25 19]\n",
      " [25 17]\n",
      " [17  3]\n",
      " [17 11]\n",
      " [28 36]\n",
      " [28 41]\n",
      " [28 21]\n",
      " [28 34]\n",
      " [28 27]\n",
      " [36 21]\n",
      " [36 41]\n",
      " [41 34]\n",
      " [34 27]\n",
      " [20 21]\n",
      " [20 27]\n",
      " [20 14]\n",
      " [20 13]\n",
      " [20 19]\n",
      " [21 14]\n",
      " [21 27]\n",
      " [27 19]\n",
      " [14 13]\n",
      " [13  6]\n",
      " [13 19]\n",
      " [19 11]\n",
      " [ 4 11]\n",
      " [ 4  3]\n",
      " [ 4  5]\n",
      " [ 4  6]\n",
      " [11  3]\n",
      " [11  5]\n",
      " [ 3  6]\n",
      " [ 5  6]]\n"
     ]
    },
    {
     "data": {
      "image/png": "[encoded data removed]",
      "text/plain": [
       "<Figure size 432x288 with 1 Axes>"
      ]
     },
     "metadata": {
      "needs_background": "light"
     },
     "output_type": "display_data"
    },
    {
     "data": {
      "text/plain": [
       "<Figure size 720x504 with 0 Axes>"
      ]
     },
     "metadata": {},
     "output_type": "display_data"
    }
   ],
   "source": [
    "np.random.seed(6)\n",
    "nc = 49                # число ячеек\n",
    "k = int(np.sqrt(nc))    # корень из числа ячеек\n",
    "n = 1                     # число спутников в ячейке\n",
    "N = n*nc                   # число спутников\n",
    "l = 1/k                    # длина стороны ячейки\n",
    "data = np.zeros((N, 2), dtype=object)  # массив со всей информацией\n",
    "for i in range(k):\n",
    "    for j in range(k):\n",
    "        data[((k * i + j) * n):((k * i + j + 1) * n), 0] = np.random.random_sample(n) * l + l * j\n",
    "        data[((k * i + j) * n):((k * i + j + 1) * n), 1] = np.random.random_sample(n) * l + l * i\n",
    "        \n",
    "aux_data = data\n",
    "for n in range(N):\n",
    "    if data[n, 0] < 0.5:\n",
    "        aux_data[n, 0] += 1\n",
    "    \n",
    "aux_vor = Voronoi(aux_data)\n",
    "\n",
    "fig = voronoi_plot_2d(aux_vor, show_vertices=False, line_colors='orange',\n",
    "line_width=2, line_alpha=0.6, point_size=2)\n",
    "plt.figure(figsize=(10, 7))\n",
    "print(aux_vor.ridge_points)\n",
    "plt.show()"
   ]
  },
  {
   "cell_type": "code",
   "execution_count": 171,
   "id": "9883a574",
   "metadata": {},
   "outputs": [
    {
     "name": "stdout",
     "output_type": "stream",
     "text": [
      "52 26\n"
     ]
    }
   ],
   "source": [
    "b = 0\n",
    "c = 0\n",
    "d = 0\n",
    "for n in range(N):\n",
    "    for i in range(len(aux_neibs[n])):\n",
    "        if aux_neibs[n][i] not in neibs[n]:\n",
    "            b += 1\n",
    "#             print(aux_neibs[n][i])\n",
    "            if aux_data[aux_neibs[n][i][0], 0] > 1:\n",
    "#                 print(aux_neibs[n][i])\n",
    "                aux_neibs[n][i][1] = -1\n",
    "                c +=1\n",
    "            else:\n",
    "                aux_neibs[n][i][1] = 1\n",
    "                d+= 1\n",
    "    neibs[n] = np.vstack((neibs[n], aux_neibs[n]))\n",
    "print(b, c)\n",
    "# print(neibs)"
   ]
  },
  {
   "cell_type": "code",
   "execution_count": 155,
   "id": "4742383f",
   "metadata": {
    "collapsed": true
   },
   "outputs": [
    {
     "name": "stdout",
     "output_type": "stream",
     "text": [
      "[[38 44]\n",
      " [38 45]\n",
      " [38 37]\n",
      " [38 24]\n",
      " [38 30]\n",
      " [45 24]\n",
      " [45 43]\n",
      " [45 44]\n",
      " [24 10]\n",
      " [24 30]\n",
      " [24 29]\n",
      " [24 23]\n",
      " [30 29]\n",
      " [30 37]\n",
      " [ 1  3]\n",
      " [ 1 10]\n",
      " [ 1  6]\n",
      " [ 1  0]\n",
      " [ 1  2]\n",
      " [10 23]\n",
      " [10  9]\n",
      " [10  2]\n",
      " [31 17]\n",
      " [31 46]\n",
      " [31 39]\n",
      " [31 32]\n",
      " [31 25]\n",
      " [47 48]\n",
      " [47 46]\n",
      " [47 40]\n",
      " [47 39]\n",
      " [48 46]\n",
      " [48 43]\n",
      " [48 42]\n",
      " [48 35]\n",
      " [48 40]\n",
      " [46 43]\n",
      " [46 17]\n",
      " [46 39]\n",
      " [39 32]\n",
      " [39 40]\n",
      " [26 19]\n",
      " [26 27]\n",
      " [26 25]\n",
      " [26 32]\n",
      " [26 33]\n",
      " [32 40]\n",
      " [32 25]\n",
      " [32 33]\n",
      " [40 35]\n",
      " [40 41]\n",
      " [40 33]\n",
      " [29 37]\n",
      " [29 23]\n",
      " [29 22]\n",
      " [29 21]\n",
      " [29 36]\n",
      " [35 42]\n",
      " [35 41]\n",
      " [35 36]\n",
      " [42 43]\n",
      " [42 36]\n",
      " [43 44]\n",
      " [43 36]\n",
      " [37 44]\n",
      " [37 36]\n",
      " [44 36]\n",
      " [33 27]\n",
      " [33 41]\n",
      " [33 34]\n",
      " [23 22]\n",
      " [23  9]\n",
      " [23 16]\n",
      " [23 15]\n",
      " [ 8  9]\n",
      " [ 8 16]\n",
      " [ 8  2]\n",
      " [ 8 15]\n",
      " [ 8  7]\n",
      " [ 8  0]\n",
      " [ 9 16]\n",
      " [ 9  2]\n",
      " [16 15]\n",
      " [ 2  0]\n",
      " [ 0  6]\n",
      " [ 0  7]\n",
      " [22 21]\n",
      " [22 15]\n",
      " [22 14]\n",
      " [15  7]\n",
      " [15 14]\n",
      " [ 7  6]\n",
      " [ 7 13]\n",
      " [ 7 14]\n",
      " [12 13]\n",
      " [12  6]\n",
      " [12 19]\n",
      " [12 11]\n",
      " [12  5]\n",
      " [18 25]\n",
      " [18 17]\n",
      " [18 19]\n",
      " [18 11]\n",
      " [25 19]\n",
      " [25 17]\n",
      " [17  3]\n",
      " [17 11]\n",
      " [28 36]\n",
      " [28 41]\n",
      " [28 21]\n",
      " [28 34]\n",
      " [28 27]\n",
      " [36 21]\n",
      " [36 41]\n",
      " [41 34]\n",
      " [34 27]\n",
      " [20 21]\n",
      " [20 27]\n",
      " [20 14]\n",
      " [20 13]\n",
      " [20 19]\n",
      " [21 14]\n",
      " [21 27]\n",
      " [27 19]\n",
      " [14 13]\n",
      " [13  6]\n",
      " [13 19]\n",
      " [19 11]\n",
      " [ 4 11]\n",
      " [ 4  3]\n",
      " [ 4  5]\n",
      " [ 4  6]\n",
      " [11  3]\n",
      " [11  5]\n",
      " [ 3  6]\n",
      " [ 5  6]]\n"
     ]
    }
   ],
   "source": [
    "aux_data[:,:] = data[:, :]\n",
    "for n in range(N):\n",
    "    if data[n, 0] < 0.5:\n",
    "        aux_data[n, 0] += 1\n",
    "\n",
    "vor = Voronoi(data[:, :2])\n",
    "aux_vor = Voronoi(aux_data)\n",
    "\n",
    "ridges = vor.ridge_points\n",
    "aux_ridges = aux_vor.ridge_points\n",
    "# print(ridges)\n",
    "print(aux_ridges)\n",
    "neibs = []\n",
    "aux_neibs = []\n",
    "\n",
    "for i in range(N):\n",
    "    neibs.append([])\n",
    "    aux_neibs.append([])\n",
    "\n",
    "for ridge in ridges:\n",
    "    neibs[ridge[0]].append([ridge[1], 0])\n",
    "    neibs[ridge[1]].append([ridge[0], 0])\n",
    "\n",
    "for aux_ridge in aux_ridges:\n",
    "    aux_neibs[aux_ridge[0]].append([aux_ridge[1], 0])\n",
    "    aux_neibs[aux_ridge[1]].append([aux_ridge[0], 0])\n",
    "\n",
    "for n in range(N):\n",
    "    for i in range(len(aux_neibs[n])):\n",
    "        if aux_neibs[n][i] not in neibs[n]:\n",
    "            if aux_data[aux_neibs[n][i][0], 0] > 1:\n",
    "                aux_neibs[n][i][1] = -1\n",
    "            else:\n",
    "                aux_neibs[n][i][1] = 1\n",
    "    neibs[n] = np.vstack((neibs[n], aux_neibs[n]))\n",
    "\n",
    "# data[:, 2] = np.random.randint(-1, 2, N)  # источник/сток/ничего\n",
    "# for i in range(N):\n",
    "#     data[i, 4] = sorted(neibs[i], key=lambda j: j[0])\n",
    "#     data[i, 3] = len(data[i, 4])\n",
    "# print(neibs)"
   ]
  },
  {
   "cell_type": "code",
   "execution_count": null,
   "id": "f0d31102",
   "metadata": {},
   "outputs": [],
   "source": [
    "for n in range(N):\n",
    "    print(n, neibs[n])\n",
    "    print(n, aux_neibs[n])"
   ]
  },
  {
   "cell_type": "code",
   "execution_count": null,
   "id": "563dd042",
   "metadata": {},
   "outputs": [],
   "source": [
    "ridges = vor.ridge_points\n",
    "list_ridges = [list(ridge) for ridge in ridges]\n",
    "list_ridges.index([20, 13])"
   ]
  },
  {
   "cell_type": "code",
   "execution_count": 196,
   "id": "c2d2edd2",
   "metadata": {},
   "outputs": [
    {
     "name": "stdout",
     "output_type": "stream",
     "text": [
      "0 [[1, 0], [14, 0], [7, 0], [2, 0], [8, 0]]\n",
      "1 [[6, 0], [0, 0], [2, 0], [3, 0]]\n",
      "2 [[1, 0], [0, 0], [3, 0], [9, 0], [10, 0], [8, 0]]\n",
      "3 [[1, 0], [4, 0], [2, 0], [6, 0], [10, 0]]\n",
      "4 [[5, 0], [11, 0], [10, 0], [3, 0], [6, 0]]\n",
      "5 [[4, 0], [12, 0], [11, 0], [6, 0]]\n",
      "6 [[1, 0], [4, 0], [5, 0], [3, 0], [20, 0], [13, 0], [12, 0]]\n",
      "7 [[14, 0], [15, 0], [8, 0], [0, 0]]\n",
      "8 [[15, 0], [7, 0], [0, 0], [9, 0], [16, 0], [2, 0]]\n",
      "9 [[23, 0], [17, 0], [10, 0], [16, 0], [8, 0], [2, 0]]\n",
      "10 [[4, 0], [3, 0], [11, 0], [9, 0], [17, 0], [2, 0]]\n",
      "11 [[4, 0], [5, 0], [19, 0], [12, 0], [18, 0], [17, 0], [10, 0]]\n",
      "12 [[5, 0], [6, 0], [19, 0], [11, 0], [13, 0]]\n",
      "13 [[6, 0], [19, 0], [12, 0], [20, 0]]\n",
      "14 [[22, 0], [21, 0], [28, 0], [15, 0], [7, 0], [0, 0]]\n",
      "15 [[14, 0], [22, 0], [8, 0], [16, 0], [7, 0], [23, 0]]\n",
      "16 [[15, 0], [9, 0], [23, 0], [8, 0]]\n",
      "17 [[24, 0], [18, 0], [11, 0], [25, 0], [9, 0], [23, 0], [10, 0]]\n",
      "18 [[19, 0], [17, 0], [11, 0], [25, 0]]\n",
      "19 [[12, 0], [13, 0], [18, 0], [11, 0], [20, 0], [25, 0], [26, 0], [27, 0]]\n",
      "20 [[34, 0], [41, 0], [6, 0], [19, 0], [13, 0], [27, 0]]\n",
      "21 [[29, 0], [14, 0], [22, 0], [36, 0], [28, 0]]\n",
      "22 [[29, 0], [14, 0], [21, 0], [23, 0], [15, 0]]\n",
      "23 [[24, 0], [29, 0], [22, 0], [15, 0], [9, 0], [17, 0], [16, 0]]\n",
      "24 [[31, 0], [17, 0], [25, 0], [23, 0], [29, 0], [30, 0]]\n",
      "25 [[32, 0], [31, 0], [24, 0], [19, 0], [18, 0], [26, 0], [17, 0]]\n",
      "26 [[32, 0], [33, 0], [19, 0], [25, 0], [27, 0]]\n",
      "27 [[34, 0], [33, 0], [19, 0], [20, 0], [26, 0]]\n",
      "28 [[14, 0], [21, 0], [36, 0], [35, 0]]\n",
      "29 [[24, 0], [36, 0], [21, 0], [37, 0], [22, 0], [23, 0], [30, 0]]\n",
      "30 [[31, 0], [24, 0], [29, 0], [39, 0], [37, 0], [38, 0]]\n",
      "31 [[32, 0], [39, 0], [25, 0], [24, 0], [30, 0]]\n",
      "32 [[25, 0], [26, 0], [31, 0], [39, 0], [33, 0], [40, 0]]\n",
      "33 [[34, 0], [32, 0], [27, 0], [26, 0], [41, 0], [40, 0]]\n",
      "34 [[33, 0], [41, 0], [27, 0], [20, 0]]\n",
      "35 [[42, 0], [28, 0], [36, 0]]\n",
      "36 [[42, 0], [29, 0], [21, 0], [28, 0], [35, 0], [44, 0], [37, 0], [43, 0]]\n",
      "37 [[29, 0], [30, 0], [44, 0], [38, 0], [36, 0]]\n",
      "38 [[30, 0], [39, 0], [46, 0], [44, 0], [37, 0], [45, 0]]\n",
      "39 [[32, 0], [31, 0], [30, 0], [47, 0], [40, 0], [38, 0], [46, 0]]\n",
      "40 [[32, 0], [33, 0], [41, 0], [47, 0], [39, 0], [48, 0]]\n",
      "41 [[34, 0], [33, 0], [48, 0], [20, 0], [40, 0]]\n",
      "42 [[35, 0], [43, 0], [36, 0]]\n",
      "43 [[42, 0], [48, 0], [44, 0], [36, 0], [45, 0]]\n",
      "44 [[38, 0], [37, 0], [36, 0], [43, 0], [45, 0]]\n",
      "45 [[46, 0], [48, 0], [44, 0], [38, 0], [43, 0]]\n",
      "46 [[47, 0], [39, 0], [38, 0], [48, 0], [45, 0]]\n",
      "47 [[46, 0], [39, 0], [40, 0], [48, 0]]\n",
      "48 [[41, 0], [47, 0], [40, 0], [46, 0], [43, 0], [45, 0]]\n",
      "27 12 15\n"
     ]
    }
   ],
   "source": [
    "import numpy as np\n",
    "from scipy.spatial import Voronoi\n",
    "\n",
    "np.random.seed(6)\n",
    "nc = 49  # число ячеек\n",
    "k = int(np.sqrt(nc))  # корень из числа ячеек\n",
    "n = 1  # число спутников в ячейке\n",
    "N = n * nc  # число спутников\n",
    "l = 1 / k  # длина стороны ячейки\n",
    "data = np.zeros((N, 6), dtype=object)  # массив со всей информацией\n",
    "for i in range(k):\n",
    "    for j in range(k):\n",
    "        data[((k * i + j) * n):((k * i + j + 1) * n), 0] = np.random.random_sample(n) * l + l * j\n",
    "        data[((k * i + j) * n):((k * i + j + 1) * n), 1] = np.random.random_sample(n) * l + l * i\n",
    "data[:, 1] = -data[:, 1] + 1\n",
    "aux_data = np.zeros((N, 2))\n",
    "aux_data[:, :] = data[:, :2]\n",
    "for n in range(N):\n",
    "    if data[n, 0] < 0.5:\n",
    "        aux_data[n, 0] += 1\n",
    "\n",
    "vor = Voronoi(data[:, :2])\n",
    "aux_vor = Voronoi(aux_data)\n",
    "\n",
    "ridges = vor.ridge_points\n",
    "aux_ridges = aux_vor.ridge_points\n",
    "\n",
    "neibs = []\n",
    "aux_neibs = []\n",
    "neibs1 = []\n",
    "for i in range(N):\n",
    "    neibs.append([])\n",
    "    aux_neibs.append([])\n",
    "    neibs1.append([])\n",
    "\n",
    "for ridge in ridges:\n",
    "    neibs[ridge[0]].append([ridge[1], 0])\n",
    "    neibs[ridge[1]].append([ridge[0], 0])\n",
    "    \n",
    "for n in range(N):\n",
    "    print(n, neibs[n])\n",
    "\n",
    "for aux_ridge in aux_ridges:\n",
    "    aux_neibs[aux_ridge[0]].append([aux_ridge[1], 0])\n",
    "    aux_neibs[aux_ridge[1]].append([aux_ridge[0], 0])\n",
    "\n",
    "b = 0\n",
    "c = 0\n",
    "d = 0\n",
    "\n",
    "for n in range(N):\n",
    "    if 0.9 < aux_data[n, 0] < 1.2:\n",
    "        for i in range(len(aux_neibs[n])):\n",
    "            if aux_neibs[n][i] not in neibs[n]:\n",
    "                b += 1\n",
    "                if aux_data[aux_neibs[n][i][0], 0] > 1:\n",
    "                    aux_neibs[n][i][1] = -1\n",
    "                    c += 1\n",
    "                else:\n",
    "                    aux_neibs[n][i][1] = 1\n",
    "                    d += 1\n",
    "#         neibs[n] = np.vstack((neibs[n], aux_neibs[n]))\n",
    "        # neibs[n] = np.array(neibs[n])\n",
    "print(b, c, d)\n",
    "\n",
    "for n in range(N):\n",
    "    for neib in neibs[n]:\n",
    "#         print(neib, neibs1[n])\n",
    "        if list(neib) not in neibs1[n]:\n",
    "            neibs1[n].append(list(neib))\n",
    "#             print(neib, neibs1[n])"
   ]
  },
  {
   "cell_type": "code",
   "execution_count": 197,
   "id": "c3069e25",
   "metadata": {},
   "outputs": [
    {
     "name": "stdout",
     "output_type": "stream",
     "text": [
      "0 [[1, 0], [8, 0], [7, 0], [2, 0], [6, 1]]\n",
      "1 [[3, 0], [6, 0], [10, 0], [0, 0], [2, 0]]\n",
      "2 [[1, 0], [10, 0], [8, 0], [9, 0], [0, 0]]\n",
      "3 [[1, 0], [6, 0], [17, 0], [4, 0], [11, 0]]\n",
      "4 [[6, 0], [3, 0], [5, 0], [11, 0]]\n",
      "5 [[6, 0], [4, 0], [12, 0], [11, 0]]\n",
      "6 [[1, 0], [7, -1], [0, -1], [3, 0], [13, 0], [12, 0], [5, 0], [4, 0]]\n",
      "7 [[8, 0], [15, 0], [13, 1], [6, 1], [0, 0], [14, 0]]\n",
      "8 [[15, 0], [16, 0], [7, 0], [9, 0], [2, 0], [0, 0]]\n",
      "9 [[10, 0], [23, 0], [8, 0], [16, 0], [2, 0]]\n",
      "10 [[24, 0], [1, 0], [23, 0], [2, 0], [9, 0]]\n",
      "11 [[3, 0], [4, 0], [5, 0], [17, 0], [19, 0], [18, 0], [12, 0]]\n",
      "12 [[6, 0], [5, 0], [19, 0], [13, 0], [11, 0]]\n",
      "13 [[7, 0], [14, 0], [6, 0], [19, 0], [12, 0], [20, 0]]\n",
      "14 [[15, 0], [7, 0], [22, 0], [13, 1], [20, 1], [21, 0]]\n",
      "15 [[23, 0], [8, 0], [16, 0], [22, 0], [14, 0], [7, 0]]\n",
      "16 [[23, 0], [8, 0], [15, 0], [9, 0]]\n",
      "17 [[31, 0], [46, 0], [3, 0], [25, 0], [11, 0], [18, 0]]\n",
      "18 [[17, 0], [19, 0], [25, 0], [11, 0]]\n",
      "19 [[25, 0], [26, 0], [18, 0], [13, 0], [20, 0], [12, 0], [27, 0], [11, 0]]\n",
      "20 [[14, -1], [21, -1], [19, 0], [13, 0], [27, 0]]\n",
      "21 [[22, 0], [14, 0], [29, 0], [20, 1], [36, 0], [28, 0], [27, 1]]\n",
      "22 [[23, 0], [15, 0], [29, 0], [14, 0], [21, 0]]\n",
      "23 [[24, 0], [10, 0], [29, 0], [22, 0], [15, 0], [16, 0], [9, 0]]\n",
      "24 [[30, 0], [45, 0], [10, 0], [23, 0], [29, 0], [38, 0]]\n",
      "25 [[31, 0], [32, 0], [17, 0], [19, 0], [26, 0], [18, 0]]\n",
      "26 [[32, 0], [19, 0], [25, 0], [33, 0], [27, 0]]\n",
      "27 [[21, -1], [19, 0], [26, 0], [20, 0], [34, 0], [28, -1], [33, 0]]\n",
      "28 [[21, 0], [36, 0], [34, 1], [27, 1], [41, 1]]\n",
      "29 [[30, 0], [24, 0], [23, 0], [22, 0], [37, 0], [21, 0], [36, 0]]\n",
      "30 [[29, 0], [24, 0], [37, 0], [38, 0]]\n",
      "31 [[17, 0], [46, 0], [39, 0], [32, 0], [25, 0]]\n",
      "32 [[31, 0], [39, 0], [26, 0], [33, 0], [25, 0], [40, 0]]\n",
      "33 [[32, 0], [40, 0], [26, 0], [34, 0], [27, 0], [41, 0]]\n",
      "34 [[27, 0], [28, -1], [41, 0], [33, 0]]\n",
      "35 [[40, 1], [42, 0], [36, 0], [48, 1], [41, 1]]\n",
      "36 [[29, 0], [21, 0], [44, 0], [37, 0], [42, 0], [28, 0], [43, 0], [41, 1], [35, 0]]\n",
      "37 [[30, 0], [29, 0], [44, 0], [38, 0], [36, 0]]\n",
      "38 [[30, 0], [24, 0], [44, 0], [45, 0], [37, 0]]\n",
      "39 [[31, 0], [46, 0], [32, 0], [47, 0], [40, 0]]\n",
      "40 [[32, 0], [39, 0], [47, 0], [33, 0], [48, 0], [35, 0], [41, 0]]\n",
      "41 [[40, 0], [36, -1], [35, -1], [34, 0], [28, -1], [33, 0]]\n",
      "42 [[36, 0], [43, 0], [35, 0], [48, 1]]\n",
      "43 [[46, 0], [44, 0], [45, 0], [42, 0], [36, 0], [48, 0]]\n",
      "44 [[38, 0], [37, 0], [36, 0], [43, 0], [45, 0]]\n",
      "45 [[24, 0], [44, 0], [38, 0], [43, 0]]\n",
      "46 [[31, 0], [17, 0], [39, 0], [43, 0], [48, 0], [47, 0]]\n",
      "47 [[46, 0], [39, 0], [48, 0], [40, 0]]\n",
      "48 [[46, 0], [47, 0], [40, 0], [42, -1], [43, 0], [35, -1]]\n"
     ]
    }
   ],
   "source": [
    "for n in range(N):\n",
    "    print(n, aux_neibs[n])"
   ]
  },
  {
   "cell_type": "code",
   "execution_count": 193,
   "id": "29891b5f",
   "metadata": {},
   "outputs": [
    {
     "name": "stdout",
     "output_type": "stream",
     "text": [
      "0 [[1, 0], [14, 0], [7, 0], [2, 0], [8, 0]]\n",
      "1 [[6, 0], [0, 0], [2, 0], [3, 0]]\n",
      "2 [[1, 0], [0, 0], [3, 0], [9, 0], [10, 0], [8, 0]]\n",
      "3 [[1, 0], [4, 0], [2, 0], [6, 0], [10, 0]]\n",
      "4 [[5, 0], [11, 0], [10, 0], [3, 0], [6, 0]]\n",
      "5 [[4, 0], [12, 0], [11, 0], [6, 0]]\n",
      "6 [[1, 0], [4, 0], [5, 0], [3, 0], [20, 0], [13, 0], [12, 0]]\n",
      "7 [[14, 0], [15, 0], [8, 0], [0, 0]]\n",
      "8 [[15, 0], [7, 0], [0, 0], [9, 0], [16, 0], [2, 0]]\n",
      "9 [[23, 0], [17, 0], [10, 0], [16, 0], [8, 0], [2, 0]]\n",
      "10 [[4, 0], [3, 0], [11, 0], [9, 0], [17, 0], [2, 0]]\n",
      "11 [[4, 0], [5, 0], [19, 0], [12, 0], [18, 0], [17, 0], [10, 0]]\n",
      "12 [[5, 0], [6, 0], [19, 0], [11, 0], [13, 0]]\n",
      "13 [[6, 0], [19, 0], [12, 0], [20, 0]]\n",
      "14 [[22, 0], [21, 0], [28, 0], [15, 0], [7, 0], [0, 0]]\n",
      "15 [[14, 0], [22, 0], [8, 0], [16, 0], [7, 0], [23, 0]]\n",
      "16 [[15, 0], [9, 0], [23, 0], [8, 0]]\n",
      "17 [[24, 0], [18, 0], [11, 0], [25, 0], [9, 0], [23, 0], [10, 0]]\n",
      "18 [[19, 0], [17, 0], [11, 0], [25, 0]]\n",
      "19 [[12, 0], [13, 0], [18, 0], [11, 0], [20, 0], [25, 0], [26, 0], [27, 0]]\n",
      "20 [[34, 0], [41, 0], [6, 0], [19, 0], [13, 0], [27, 0]]\n",
      "21 [[29, 0], [14, 0], [22, 0], [36, 0], [28, 0]]\n",
      "22 [[29, 0], [14, 0], [21, 0], [23, 0], [15, 0]]\n",
      "23 [[24, 0], [29, 0], [22, 0], [15, 0], [9, 0], [17, 0], [16, 0]]\n",
      "24 [[31, 0], [17, 0], [25, 0], [23, 0], [29, 0], [30, 0]]\n",
      "25 [[32, 0], [31, 0], [24, 0], [19, 0], [18, 0], [26, 0], [17, 0]]\n",
      "26 [[32, 0], [33, 0], [19, 0], [25, 0], [27, 0]]\n",
      "27 [[34, 0], [33, 0], [19, 0], [20, 0], [26, 0]]\n",
      "28 [[14, 0], [21, 0], [36, 0], [35, 0]]\n",
      "29 [[24, 0], [36, 0], [21, 0], [37, 0], [22, 0], [23, 0], [30, 0]]\n",
      "30 [[31, 0], [24, 0], [29, 0], [39, 0], [37, 0], [38, 0]]\n",
      "31 [[32, 0], [39, 0], [25, 0], [24, 0], [30, 0]]\n",
      "32 [[25, 0], [26, 0], [31, 0], [39, 0], [33, 0], [40, 0]]\n",
      "33 [[34, 0], [32, 0], [27, 0], [26, 0], [41, 0], [40, 0]]\n",
      "34 [[33, 0], [41, 0], [27, 0], [20, 0]]\n",
      "35 [[42, 0], [28, 0], [36, 0]]\n",
      "36 [[42, 0], [29, 0], [21, 0], [28, 0], [35, 0], [44, 0], [37, 0], [43, 0]]\n",
      "37 [[29, 0], [30, 0], [44, 0], [38, 0], [36, 0]]\n",
      "38 [[30, 0], [39, 0], [46, 0], [44, 0], [37, 0], [45, 0]]\n",
      "39 [[32, 0], [31, 0], [30, 0], [47, 0], [40, 0], [38, 0], [46, 0]]\n",
      "40 [[32, 0], [33, 0], [41, 0], [47, 0], [39, 0], [48, 0]]\n",
      "41 [[34, 0], [33, 0], [48, 0], [20, 0], [40, 0]]\n",
      "42 [[35, 0], [43, 0], [36, 0]]\n",
      "43 [[42, 0], [48, 0], [44, 0], [36, 0], [45, 0]]\n",
      "44 [[38, 0], [37, 0], [36, 0], [43, 0], [45, 0]]\n",
      "45 [[46, 0], [48, 0], [44, 0], [38, 0], [43, 0]]\n",
      "46 [[47, 0], [39, 0], [38, 0], [48, 0], [45, 0]]\n",
      "47 [[46, 0], [39, 0], [40, 0], [48, 0]]\n",
      "48 [[41, 0], [47, 0], [40, 0], [46, 0], [43, 0], [45, 0]]\n"
     ]
    },
    {
     "data": {
      "image/png": "[encoded data removed]",
      "text/plain": [
       "<Figure size 432x288 with 1 Axes>"
      ]
     },
     "metadata": {
      "needs_background": "light"
     },
     "output_type": "display_data"
    }
   ],
   "source": [
    "np.random.seed(6)\n",
    "nc = 49  # число ячеек\n",
    "k = int(np.sqrt(nc))  # корень из числа ячеек\n",
    "n = 1  # число спутников в ячейке\n",
    "N = n * nc  # число спутников\n",
    "l = 1 / k  # длина стороны ячейки\n",
    "data = np.zeros((N, 6), dtype=object)  # массив со всей информацией\n",
    "for i in range(k):\n",
    "    for j in range(k):\n",
    "        data[((k * i + j) * n):((k * i + j + 1) * n), 0] = np.random.random_sample(n) * l + l * j\n",
    "        data[((k * i + j) * n):((k * i + j + 1) * n), 1] = np.random.random_sample(n) * l + l * i\n",
    "data[:, 1] = -data[:, 1] + 1\n",
    "vor = Voronoi(data[:, :2])\n",
    "neibs = []\n",
    "for i in range(N):\n",
    "    neibs.append([])\n",
    "for ridge in ridges:\n",
    "    neibs[ridge[0]].append([ridge[1], 0])\n",
    "    neibs[ridge[1]].append([ridge[0], 0])\n",
    "for n in range(N):\n",
    "    print(n, neibs[n])\n",
    "\n",
    "fig = voronoi_plot_2d(vor, show_vertices=False, line_colors='orange',\n",
    "line_width=2, line_alpha=0.6, point_size=2)\n",
    "plt.show()"
   ]
  },
  {
   "cell_type": "code",
   "execution_count": 192,
   "id": "afff883c",
   "metadata": {},
   "outputs": [
    {
     "data": {
      "text/plain": [
       "array([[42, 35],\n",
       "       [42, 43],\n",
       "       [42, 36],\n",
       "       [ 1,  6],\n",
       "       [ 1,  0],\n",
       "       [ 1,  2],\n",
       "       [ 1,  3],\n",
       "       [34, 33],\n",
       "       [34, 41],\n",
       "       [34, 27],\n",
       "       [34, 20],\n",
       "       [32, 25],\n",
       "       [32, 26],\n",
       "       [32, 31],\n",
       "       [32, 39],\n",
       "       [32, 33],\n",
       "       [32, 40],\n",
       "       [33, 27],\n",
       "       [33, 26],\n",
       "       [33, 41],\n",
       "       [33, 40],\n",
       "       [41, 48],\n",
       "       [41, 20],\n",
       "       [41, 40],\n",
       "       [31, 39],\n",
       "       [31, 25],\n",
       "       [31, 24],\n",
       "       [31, 30],\n",
       "       [24, 17],\n",
       "       [24, 25],\n",
       "       [24, 23],\n",
       "       [24, 29],\n",
       "       [24, 30],\n",
       "       [29, 36],\n",
       "       [29, 21],\n",
       "       [29, 37],\n",
       "       [29, 22],\n",
       "       [29, 23],\n",
       "       [29, 30],\n",
       "       [30, 39],\n",
       "       [30, 37],\n",
       "       [30, 38],\n",
       "       [14, 22],\n",
       "       [14, 21],\n",
       "       [14, 28],\n",
       "       [14, 15],\n",
       "       [14,  7],\n",
       "       [14,  0],\n",
       "       [22, 21],\n",
       "       [22, 23],\n",
       "       [22, 15],\n",
       "       [21, 36],\n",
       "       [21, 28],\n",
       "       [28, 36],\n",
       "       [28, 35],\n",
       "       [15,  8],\n",
       "       [15, 16],\n",
       "       [15,  7],\n",
       "       [15, 23],\n",
       "       [ 7,  8],\n",
       "       [ 7,  0],\n",
       "       [ 0,  2],\n",
       "       [ 0,  8],\n",
       "       [35, 36],\n",
       "       [ 4,  5],\n",
       "       [ 4, 11],\n",
       "       [ 4, 10],\n",
       "       [ 4,  3],\n",
       "       [ 4,  6],\n",
       "       [ 5, 12],\n",
       "       [ 5, 11],\n",
       "       [ 5,  6],\n",
       "       [ 3,  2],\n",
       "       [ 3,  6],\n",
       "       [ 3, 10],\n",
       "       [ 6, 20],\n",
       "       [ 6, 13],\n",
       "       [ 6, 12],\n",
       "       [47, 46],\n",
       "       [47, 39],\n",
       "       [47, 40],\n",
       "       [47, 48],\n",
       "       [39, 40],\n",
       "       [39, 38],\n",
       "       [39, 46],\n",
       "       [40, 48],\n",
       "       [46, 38],\n",
       "       [46, 48],\n",
       "       [46, 45],\n",
       "       [48, 43],\n",
       "       [48, 45],\n",
       "       [44, 38],\n",
       "       [44, 37],\n",
       "       [44, 36],\n",
       "       [44, 43],\n",
       "       [44, 45],\n",
       "       [38, 37],\n",
       "       [38, 45],\n",
       "       [37, 36],\n",
       "       [36, 43],\n",
       "       [43, 45],\n",
       "       [19, 12],\n",
       "       [19, 13],\n",
       "       [19, 18],\n",
       "       [19, 11],\n",
       "       [19, 20],\n",
       "       [19, 25],\n",
       "       [19, 26],\n",
       "       [19, 27],\n",
       "       [12, 11],\n",
       "       [12, 13],\n",
       "       [13, 20],\n",
       "       [18, 17],\n",
       "       [18, 11],\n",
       "       [18, 25],\n",
       "       [11, 17],\n",
       "       [11, 10],\n",
       "       [20, 27],\n",
       "       [25, 26],\n",
       "       [25, 17],\n",
       "       [26, 27],\n",
       "       [ 9, 23],\n",
       "       [ 9, 17],\n",
       "       [ 9, 10],\n",
       "       [ 9, 16],\n",
       "       [ 9,  8],\n",
       "       [ 9,  2],\n",
       "       [23, 17],\n",
       "       [23, 16],\n",
       "       [17, 10],\n",
       "       [10,  2],\n",
       "       [16,  8],\n",
       "       [ 8,  2]], dtype=int32)"
      ]
     },
     "execution_count": 192,
     "metadata": {},
     "output_type": "execute_result"
    }
   ],
   "source": [
    "vor.ridge_points"
   ]
  },
  {
   "cell_type": "code",
   "execution_count": 200,
   "id": "394a0eec",
   "metadata": {},
   "outputs": [],
   "source": [
    "vor.regions??"
   ]
  },
  {
   "cell_type": "code",
   "execution_count": null,
   "id": "bafc1394",
   "metadata": {},
   "outputs": [],
   "source": []
  }
 ],
 "metadata": {
  "kernelspec": {
   "display_name": "Python 3",
   "language": "python",
   "name": "python3"
  },
  "language_info": {
   "codemirror_mode": {
    "name": "ipython",
    "version": 3
   },
   "file_extension": ".py",
   "mimetype": "text/x-python",
   "name": "python",
   "nbconvert_exporter": "python",
   "pygments_lexer": "ipython3",
   "version": "3.8.8"
  }
 },
 "nbformat": 4,
 "nbformat_minor": 5
}
