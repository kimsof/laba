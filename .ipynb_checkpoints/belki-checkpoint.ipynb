{
 "cells": [
  {
   "cell_type": "code",
   "execution_count": 1,
   "metadata": {
    "scrolled": false
   },
   "outputs": [
    {
     "ename": "ModuleNotFoundError",
     "evalue": "No module named 'arcade'",
     "output_type": "error",
     "traceback": [
      "\u001b[0;31m---------------------------------------------------------------------------\u001b[0m",
      "\u001b[0;31mModuleNotFoundError\u001b[0m                       Traceback (most recent call last)",
      "\u001b[0;32m<ipython-input-1-9f59c1537372>\u001b[0m in \u001b[0;36m<module>\u001b[0;34m\u001b[0m\n\u001b[1;32m      1\u001b[0m \u001b[0;32mimport\u001b[0m \u001b[0mnumpy\u001b[0m \u001b[0;32mas\u001b[0m \u001b[0mnp\u001b[0m\u001b[0;34m\u001b[0m\u001b[0;34m\u001b[0m\u001b[0m\n\u001b[0;32m----> 2\u001b[0;31m \u001b[0;32mimport\u001b[0m \u001b[0marcade\u001b[0m\u001b[0;34m\u001b[0m\u001b[0;34m\u001b[0m\u001b[0m\n\u001b[0m",
      "\u001b[0;31mModuleNotFoundError\u001b[0m: No module named 'arcade'"
     ]
    }
   ],
   "source": [
    "import numpy as np\n",
    "import arcade monokai"
   ]
  },
  {
   "cell_type": "code",
   "execution_count": 9,
   "metadata": {},
   "outputs": [],
   "source": [
    "SCREEN_WIDTH = 600\n",
    "SCREEN_HEIGHT = 600\n",
    "L = 95. # длина иголки\n",
    "r = 100. # расстояние между прямыми"
   ]
  },
  {
   "cell_type": "code",
   "execution_count": 4,
   "metadata": {},
   "outputs": [],
   "source": [
    "class Stick(object):\n",
    "    def __init__(self):\n",
    "        self.start_x = (SCREEN_WIDTH) * np.random.random_sample()\n",
    "        self.start_y = (SCREEN_HEIGHT) * np.random.random_sample()\n",
    "        angle = 2 * np.pi * np.random.random_sample()\n",
    "        self.end_x = L * np.cos(angle) + self.start_x\n",
    "        self.end_y = L * np.sin(angle) + self.start_y\n",
    "    def draw(self):\n",
    "        arcade.draw_line(self.start_x, self.start_y, self.end_x, self.end_y, arcade.color.BLACK, 1.)\n",
    "    def isIntersection(self):\n",
    "        return ( (self.end_y >= (r * (self.start_y // r + 1))) or (self.end_y <= r * (self.start_y // r)) )\n",
    "    def printer(self):\n",
    "        print(self.start_x, self.start_y, self.end_x, self.end_y)\n",
    "def draw_base_lines():\n",
    "    i = 0.\n",
    "    while (i <= SCREEN_HEIGHT):\n",
    "        arcade.draw_line(0., i, SCREEN_WIDTH, i, arcade.color.YELLOW, 1.5)\n",
    "        i += r"
   ]
  },
  {
   "cell_type": "code",
   "execution_count": 18,
   "metadata": {},
   "outputs": [
    {
     "name": "stdout",
     "output_type": "stream",
     "text": [
      "3.0844155844155843\n"
     ]
    }
   ],
   "source": [
    "arcade.open_window(SCREEN_WIDTH, SCREEN_HEIGHT, \"Example\")\n",
    "arcade.set_background_color(arcade.color.WHITE)\n",
    "arcade.start_render()\n",
    "draw_base_lines()\n",
    "sticks = []\n",
    "k = 0\n",
    "a = 1000\n",
    "c = 0\n",
    "while (c < 1) :\n",
    "    k = 0\n",
    "    sticks = []\n",
    "    for i in range(a):\n",
    "        sticks.append(Stick())\n",
    "        sticks[i].draw()\n",
    "        if (sticks[i].isIntersection()) : k += 1\n",
    "    #print(k)\n",
    "    p = k/a\n",
    "    print(2 * L / (r * p))\n",
    "    c += 1\n",
    "arcade.finish_render()\n",
    "arcade.run()"
   ]
  },
  {
   "cell_type": "code",
   "execution_count": 2,
   "metadata": {},
   "outputs": [],
   "source": [
    "np.random.random_sample??"
   ]
  },
  {
   "cell_type": "code",
   "execution_count": 3,
   "metadata": {},
   "outputs": [],
   "source": [
    "np.random.random??"
   ]
  },
  {
   "cell_type": "code",
   "execution_count": 4,
   "metadata": {},
   "outputs": [],
   "source": [
    "np.random.ranf??"
   ]
  },
  {
   "cell_type": "code",
   "execution_count": 6,
   "metadata": {},
   "outputs": [],
   "source": [
    "np.random.sample??"
   ]
  },
  {
   "cell_type": "code",
   "execution_count": 8,
   "metadata": {},
   "outputs": [
    {
     "ename": "NameError",
     "evalue": "name 'python' is not defined",
     "output_type": "error",
     "traceback": [
      "\u001b[0;31m---------------------------------------------------------------------------\u001b[0m",
      "\u001b[0;31mNameError\u001b[0m                                 Traceback (most recent call last)",
      "\u001b[0;32m<ipython-input-8-4fb60f5b132e>\u001b[0m in \u001b[0;36m<module>\u001b[0;34m\u001b[0m\n\u001b[0;32m----> 1\u001b[0;31m \u001b[0mpython\u001b[0m\u001b[0;34m.\u001b[0m\u001b[0mnumpy\u001b[0m\u001b[0;34m.\u001b[0m\u001b[0mrandom\u001b[0m\u001b[0;34m.\u001b[0m\u001b[0mrandom\u001b[0m\u001b[0;34m\u001b[0m\u001b[0;34m\u001b[0m\u001b[0m\n\u001b[0m",
      "\u001b[0;31mNameError\u001b[0m: name 'python' is not defined"
     ]
    }
   ],
   "source": [
    "python.numpy.random.random\n"
   ]
  },
  {
   "cell_type": "code",
   "execution_count": 17,
   "metadata": {},
   "outputs": [],
   "source": [
    "#from random import random\n",
    "import random as rd\n",
    "random??"
   ]
  },
  {
   "cell_type": "code",
   "execution_count": 11,
   "metadata": {},
   "outputs": [
    {
     "data": {
      "text/plain": [
       "0.8613646087893321"
      ]
     },
     "execution_count": 11,
     "metadata": {},
     "output_type": "execute_result"
    }
   ],
   "source": [
    "random()"
   ]
  },
  {
   "cell_type": "code",
   "execution_count": 20,
   "metadata": {},
   "outputs": [],
   "source": [
    "rd.uniform??"
   ]
  },
  {
   "cell_type": "code",
   "execution_count": null,
   "metadata": {},
   "outputs": [],
   "source": []
  }
 ],
 "metadata": {
  "kernelspec": {
   "display_name": "Python 3",
   "language": "python",
   "name": "python3"
  },
  "language_info": {
   "codemirror_mode": {
    "name": "ipython",
    "version": 3
   },
   "file_extension": ".py",
   "mimetype": "text/x-python",
   "name": "python",
   "nbconvert_exporter": "python",
   "pygments_lexer": "ipython3",
   "version": "3.8.8"
  }
 },
 "nbformat": 4,
 "nbformat_minor": 4
}
