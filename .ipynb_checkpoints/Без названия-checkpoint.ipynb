{
 "cells": [
  {
   "cell_type": "code",
   "execution_count": 4,
   "id": "6e0b5c3c",
   "metadata": {},
   "outputs": [],
   "source": [
    "import numpy as np\n",
    "N = 9\n",
    "q = 0.1\n",
    "coordinates = np.zeros((N, 2))\n",
    "coordinates[0] = [0.5, 0.5]\n",
    "coordinates[1] = [0.5 + q, 0.5]\n",
    "coordinates[2] = [0.5, 0.5 + q]\n",
    "coordinates[3] = [0.5 - q, 0.5]\n",
    "coordinates[4] = [0.5, 0.5 - q]\n",
    "coordinates[5] = [0.5 - q, 0.5 - q]\n",
    "coordinates[6] = [0.5 - q, 0.5 + q]\n",
    "coordinates[7] = [0.5 + q, 0.5 - q]\n",
    "coordinates[8] = [0.5 + q, 0.5 + q]"
   ]
  },
  {
   "cell_type": "code",
   "execution_count": 113,
   "id": "2930a006",
   "metadata": {
    "scrolled": false
   },
   "outputs": [
    {
     "name": "stdout",
     "output_type": "stream",
     "text": [
      "[[ 0.1  0. ]\n",
      " [ 0.   0.1]\n",
      " [-0.1  0. ]\n",
      " [ 0.  -0.1]\n",
      " [-0.1 -0.1]\n",
      " [-0.1  0.1]\n",
      " [ 0.1 -0.1]\n",
      " [ 0.1  0.1]]\n",
      "[[ 1.e+00  1.e+00  1.e+00  1.e+00  1.e+00  1.e+00  1.e+00  1.e+00  1.e+00]\n",
      " [ 0.e+00  1.e-01  0.e+00 -1.e-01  0.e+00 -1.e-01 -1.e-01  1.e-01  1.e-01]\n",
      " [ 0.e+00  0.e+00  1.e-01  0.e+00 -1.e-01 -1.e-01  1.e-01 -1.e-01  1.e-01]\n",
      " [ 0.e+00  1.e-02  0.e+00  1.e-02  0.e+00  1.e-02  1.e-02  1.e-02  1.e-02]\n",
      " [ 0.e+00  0.e+00  1.e-02  0.e+00  1.e-02  1.e-02  1.e-02  1.e-02  1.e-02]\n",
      " [ 0.e+00  0.e+00  0.e+00 -0.e+00 -0.e+00  1.e-02 -1.e-02 -1.e-02  1.e-02]\n",
      " [ 0.e+00  0.e+00  0.e+00 -0.e+00 -0.e+00  1.e-04 -1.e-04 -1.e-04  1.e-04]\n",
      " [ 0.e+00  0.e+00  0.e+00  0.e+00 -0.e+00 -1.e-03  1.e-03 -1.e-03  1.e-03]\n",
      " [ 0.e+00  0.e+00  0.e+00 -0.e+00  0.e+00 -1.e-03 -1.e-03  1.e-03  1.e-03]]\n"
     ]
    }
   ],
   "source": [
    "dxdy = coordinates[1:, :] - np.ones((N-1, 2))*0.5\n",
    "dx = dxdy[:, 0]\n",
    "dy = dxdy[:, 1]\n",
    "A = np.zeros((N, N))\n",
    "A[0, :] = np.ones(N)\n",
    "A[1, 1:] = dx\n",
    "A[2, 1:] = dy\n",
    "A[3, 1:] = dx ** 2\n",
    "A[4, 1:] = dy ** 2\n",
    "A[5, 1:] = dx * dy\n",
    "# A[6, 1:] = dx ** 2 * dy\n",
    "# A[7, 1:] = dx * dy ** 2\n",
    "# A[8, 1:] = dx ** 4 * dy \n",
    "A[6, 1:] = dx ** 3 * dy\n",
    "A[7, 1:] = dx ** 2 * dy\n",
    "A[8, 1:] = dx * dy ** 2\n",
    "\n",
    "print(dxdy)\n",
    "print(A)"
   ]
  },
  {
   "cell_type": "code",
   "execution_count": 114,
   "id": "0e3c09a2",
   "metadata": {},
   "outputs": [
    {
     "data": {
      "text/plain": [
       "-2.1684043449709866e-33"
      ]
     },
     "execution_count": 114,
     "metadata": {},
     "output_type": "execute_result"
    }
   ],
   "source": [
    "np.linalg.det(A[:, :])"
   ]
  },
  {
   "cell_type": "code",
   "execution_count": 115,
   "id": "8427d9be",
   "metadata": {},
   "outputs": [],
   "source": [
    "b = np.array([0, 0, 0, 2, 2, 0, 0, 0, 0])"
   ]
  },
  {
   "cell_type": "code",
   "execution_count": 116,
   "id": "b115e084",
   "metadata": {},
   "outputs": [
    {
     "data": {
      "text/plain": [
       "array([-400.,  100.,  100.,  100.,  100.,    0.,   -0.,   -0.,    0.])"
      ]
     },
     "execution_count": 116,
     "metadata": {},
     "output_type": "execute_result"
    }
   ],
   "source": [
    "np.linalg.solve(A, b)"
   ]
  },
  {
   "cell_type": "code",
   "execution_count": 63,
   "id": "07915324",
   "metadata": {},
   "outputs": [
    {
     "data": {
      "text/plain": [
       "-2.1684043449709866e-33"
      ]
     },
     "execution_count": 63,
     "metadata": {},
     "output_type": "execute_result"
    }
   ],
   "source": []
  },
  {
   "cell_type": "code",
   "execution_count": 43,
   "id": "cb4baa3b",
   "metadata": {},
   "outputs": [
    {
     "data": {
      "text/plain": [
       "array([[ 1.  ,  1.  ,  1.  ,  1.  ,  1.  ],\n",
       "       [ 0.  ,  0.1 ,  0.  , -0.1 ,  0.  ],\n",
       "       [ 0.  ,  0.  ,  0.1 ,  0.  , -0.1 ],\n",
       "       [ 0.  ,  0.01,  0.  ,  0.01,  0.  ],\n",
       "       [ 0.  ,  0.  ,  0.01,  0.  ,  0.01]])"
      ]
     },
     "execution_count": 43,
     "metadata": {},
     "output_type": "execute_result"
    }
   ],
   "source": [
    "A[:-4,:-4]"
   ]
  },
  {
   "cell_type": "code",
   "execution_count": null,
   "id": "5e159b22",
   "metadata": {},
   "outputs": [],
   "source": [
    "if self.u == 0:\n",
    "dxdy = np.zeros((self.bounds, 2))\n",
    "for i in range(self.bounds):\n",
    "    dxdy[i, 0] = (data[self.neighbours[i][0], 0] + self.neighbours[i][1][0]) - self.x\n",
    "    dxdy[i, 1] = (data[self.neighbours[i][0], 1] + self.neighbours[i][1][1]) - self.y\n",
    "self.A = np.zeros((self.bounds + 1, self.bounds + 1))\n",
    "self.A[0, :] = np.ones(self.bounds + 1)\n",
    "self.A[1, 1:] = dxdy[:, 0]\n",
    "self.A[2, 1:] = dxdy[:, 1]\n",
    "self.A[3, 1:] = dxdy[:, 0] ** 2\n",
    "self.A[4, 1:] = dxdy[:, 1] ** 2\n",
    "\n",
    "if self.bounds == 4:\n",
    "    self.b = np.array([0, 0, 0, 2, 2])\n",
    "\n",
    "if self.bounds == 5:\n",
    "    self.A[5, 1:] = dxdy[:, 0] * dxdy[:, 1]\n",
    "    self.b = np.array([0, 0, 0, 2, 2, 0])\n",
    "\n",
    "if self.bounds == 6:\n",
    "    self.A[5, 1:] = dxdy[:, 0] * dxdy[:, 1]\n",
    "    self.A[6, 1:] = dxdy[:, 0] ** 3 * dxdy[:, 1]  # dxdy[:, 0] ** 3\n",
    "    self.b = np.array([0, 0, 0, 2, 2, 0, 0])\n",
    "\n",
    "if self.bounds == 7:\n",
    "    self.A[5, 1:] = dxdy[:, 0] * dxdy[:, 1]\n",
    "    self.A[6, 1:] = dxdy[:, 0] ** 3 * dxdy[:, 1]  # dxdy[:, 0] ** 3\n",
    "    self.A[7, 1:] = dxdy[:, 0] ** 2 * dxdy[:, 1]\n",
    "    self.b = np.array([0, 0, 0, 2, 2, 0, 0, 0])\n",
    "\n",
    "if self.bounds == 8:\n",
    "    self.A[5, 1:] = dxdy[:, 0] * dxdy[:, 1]\n",
    "    self.A[6, 1:] = dxdy[:, 0] ** 3 * dxdy[:, 1]  # dxdy[:, 0] ** 3\n",
    "    self.A[7, 1:] = dxdy[:, 0] ** 2 * dxdy[:, 1]\n",
    "    self.A[8, 1:] = dxdy[:, 0] * dxdy[:, 1] ** 2\n",
    "    self.b = np.array([0, 0, 0, 2, 2, 0, 0, 0, 0])\n",
    "\n",
    "if self.bounds == 9:\n",
    "    self.A[5, 1:] = dxdy[:, 0] * dxdy[:, 1]\n",
    "    self.A[6, 1:] = dxdy[:, 0] ** 3 * dxdy[:, 1]  # dxdy[:, 0] ** 3\n",
    "    self.A[7, 1:] = dxdy[:, 0] ** 2 * dxdy[:, 1]\n",
    "    self.A[8, 1:] = dxdy[:, 0] * dxdy[:, 1] ** 2\n",
    "    self.A[9, 1:] = dxdy[:, 1] ** 3 * dxdy[:, 0]  # dxdy[:, 1] ** 3\n",
    "    self.b = np.array([0, 0, 0, 2, 2, 0, 0, 0, 0, 0])\n",
    "\n",
    "if self.bounds == 10:\n",
    "    self.A[5, 1:] = dxdy[:, 0] * dxdy[:, 1]\n",
    "    self.A[6, 1:] = dxdy[:, 0] ** 3 * dxdy[:, 1]  # dxdy[:, 0] ** 3\n",
    "    self.A[7, 1:] = dxdy[:, 0] ** 2 * dxdy[:, 1]\n",
    "    self.A[8, 1:] = dxdy[:, 0] * dxdy[:, 1] ** 2\n",
    "    self.A[9, 1:] = dxdy[:, 1] ** 3 * dxdy[:, 0]  # dxdy[:, 1] ** 3\n",
    "    self.A[10, 1:] = dxdy[:, 0] ** 2 * dxdy[:, 1] ** 2  # dxdy[:, 0] ** 4\n",
    "    self.b = np.array([0, 0, 0, 2, 2, 0, 0, 0, 0, 0, 0])\n",
    "print(f'matrix A: {self.A}, \\ndet: {np.linalg.det(self.A)}')\n",
    "self.alpha = np.linalg.solve(self.A, self.b)  # коэффициенты разложения лапласиана\n",
    "print(f'alpha: {self.alpha}, point: {self.number}')"
   ]
  }
 ],
 "metadata": {
  "kernelspec": {
   "display_name": "Python 3",
   "language": "python",
   "name": "python3"
  },
  "language_info": {
   "codemirror_mode": {
    "name": "ipython",
    "version": 3
   },
   "file_extension": ".py",
   "mimetype": "text/x-python",
   "name": "python",
   "nbconvert_exporter": "python",
   "pygments_lexer": "ipython3",
   "version": "3.8.8"
  }
 },
 "nbformat": 4,
 "nbformat_minor": 5
}
